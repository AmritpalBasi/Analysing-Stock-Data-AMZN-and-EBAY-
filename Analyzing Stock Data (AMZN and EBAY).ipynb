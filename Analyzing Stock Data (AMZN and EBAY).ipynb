{
 "cells": [
  {
   "cell_type": "markdown",
   "metadata": {},
   "source": [
    "## Analyzing Stock Data\n",
    "***"
   ]
  },
  {
   "cell_type": "markdown",
   "metadata": {},
   "source": [
    "In this project we are given the monthly stock prices of two E-commerce companies, Amazon (AMZN) and eBay (EBAY). \n",
    "\n",
    "We will analyze the risk and return for each investment and calculate the rates of return from this data, as well as other key statistics such as variance and correlation for assessing risk."
   ]
  },
  {
   "cell_type": "code",
   "execution_count": 2,
   "metadata": {},
   "outputs": [],
   "source": [
    "# Importing Utils module\n",
    "from Utilis import *\n",
    "\n",
    "# Our Stock Prices\n",
    "amazon_prices = [1699.8, 1777.44, 2012.71, 2003.0, 1598.01, 1690.17, 1501.97, 1718.73, 1639.83, 1780.75, 1926.52, 1775.07, 1893.63]\n",
    "ebay_prices = [35.98, 33.2, 34.35, 32.77, 28.81, 29.62, 27.86, 33.39, 37.01, 37.0, 38.6, 35.93, 39.5]\n",
    "\n",
    "# Function that displays a figure as a percentage\n",
    "def display_as_percentage(val):\n",
    "  return '{:.1f}%'.format(val * 100)"
   ]
  },
  {
   "cell_type": "code",
   "execution_count": 10,
   "metadata": {},
   "outputs": [],
   "source": [
    "# Calculating Rate of Return\n",
    "\n",
    "# Function that calculates the logarithmic rates of return\n",
    "def get_returns(prices):\n",
    "    returns = []\n",
    "    for i in range(len(prices) - 1):\n",
    "        start_price = prices[i]\n",
    "        end_price = prices[i + 1]\n",
    "        returns.append(calculate_log_return(start_price, end_price))\n",
    "    return returns\n"
   ]
  },
  {
   "cell_type": "code",
   "execution_count": 15,
   "metadata": {},
   "outputs": [
    {
     "name": "stdout",
     "output_type": "stream",
     "text": [
      "Amazon Returns: 4.5%, 12.4%, -0.5%, -22.6%, 5.6%, -11.8%, 13.5%, -4.7%, 8.2%, 7.9%, -8.2%, 6.5%\n",
      "Ebay Returns: -8.0%, 3.4%, -4.7%, -12.9%, 2.8%, -6.1%, 18.1%, 10.3%, -0.0%, 4.2%, -7.2%, 9.5%\n"
     ]
    }
   ],
   "source": [
    "# Using get_returns() on amazon and ebay\n",
    "amazon_returns = get_returns(amazon_prices)\n",
    "ebay_returns = get_returns(ebay_prices)\n",
    "\n",
    "display_amazon_returns = [display_as_percentage(i) for i in amazon_returns]\n",
    "display_ebay_returns = [display_as_percentage(i) for i in ebay_returns]\n",
    "\n",
    "print('Amazon Returns:' ,', '.join(display_amazon_returns))\n",
    "print('Ebay Returns:' ,', '.join(display_ebay_returns))"
   ]
  },
  {
   "cell_type": "code",
   "execution_count": 16,
   "metadata": {},
   "outputs": [
    {
     "name": "stdout",
     "output_type": "stream",
     "text": [
      "Annual Rate of Return for Amazon: 10.8%\n",
      "Annual Rate of Return for Ebay: 9.3%\n"
     ]
    }
   ],
   "source": [
    "# calculating the annual rate of return for each stock\n",
    "\n",
    "# Summing all 12 monthly log returns \n",
    "print('Annual Rate of Return for Amazon:', display_as_percentage(sum(amazon_returns)))\n",
    "print('Annual Rate of Return for Ebay:', display_as_percentage(sum(ebay_returns)))"
   ]
  },
  {
   "cell_type": "code",
   "execution_count": 22,
   "metadata": {},
   "outputs": [
    {
     "name": "stdout",
     "output_type": "stream",
     "text": [
      "Amazon Variance: 0.010738060556609724\n",
      "Ebay Variance: 0.007459046435081462\n",
      "\n",
      "\n",
      "Amazon Standard Deviation: 10.4%\n",
      "Ebay Standard Deviation: 8.6%\n"
     ]
    }
   ],
   "source": [
    "# Assessing Investment Risk\n",
    "\n",
    "# Calculating Variance\n",
    "amazon_variance = calculate_variance(amazon_returns)\n",
    "ebay_variance = calculate_variance(ebay_returns)\n",
    "\n",
    "print('Amazon Variance:', amazon_variance)\n",
    "print('Ebay Variance:', ebay_variance)\n",
    "print('\\n')\n",
    "# Calculating Standard Deviation\n",
    "amazon_stddev = calculate_stddev(amazon_returns)\n",
    "ebay_stddev = calculate_stddev(ebay_returns)\n",
    "\n",
    "print('Amazon Standard Deviation:', display_as_percentage(amazon_stddev))\n",
    "print('Ebay Standard Deviation:', display_as_percentage(ebay_stddev))"
   ]
  },
  {
   "cell_type": "code",
   "execution_count": 24,
   "metadata": {},
   "outputs": [
    {
     "name": "stdout",
     "output_type": "stream",
     "text": [
      "The Correlation between Amazon and Ebay: 0.6776978564073072\n"
     ]
    }
   ],
   "source": [
    "# Calculating the correlation between Amazon and Ebay\n",
    "\n",
    "amazon_ebay_corr = calculate_correlation(amazon_returns, ebay_returns)\n",
    "print('The Correlation between Amazon and Ebay:', amazon_ebay_corr)"
   ]
  }
 ],
 "metadata": {
  "interpreter": {
   "hash": "e4de312b0d175b34599d3d826f04a5a17f86de583485ee3ee21acf667e9e0881"
  },
  "kernelspec": {
   "display_name": "Python 3.9.7 64-bit ('base': conda)",
   "language": "python",
   "name": "python3"
  },
  "language_info": {
   "codemirror_mode": {
    "name": "ipython",
    "version": 3
   },
   "file_extension": ".py",
   "mimetype": "text/x-python",
   "name": "python",
   "nbconvert_exporter": "python",
   "pygments_lexer": "ipython3",
   "version": "3.9.7"
  },
  "orig_nbformat": 4
 },
 "nbformat": 4,
 "nbformat_minor": 2
}
